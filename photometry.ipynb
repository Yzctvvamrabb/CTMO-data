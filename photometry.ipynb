{
 "cells": [
  {
   "cell_type": "code",
   "execution_count": 33,
   "metadata": {},
   "outputs": [
    {
     "name": "stderr",
     "output_type": "stream",
     "text": [
      "/var/folders/28/tbbt82d56sg9zc7jc4j4d7p40000gn/T/ipykernel_2783/1727402983.py:10: DeprecationWarning: `photutils.aperture_photometry` is a deprecated alias for `photutils.aperture.aperture_photometry` and will be removed in the future. Instead, please use `from photutils.aperture import aperture_photometry` to silence this warning.\n",
      "  from photutils import aperture_photometry, CircularAperture, CircularAnnulus\n",
      "/var/folders/28/tbbt82d56sg9zc7jc4j4d7p40000gn/T/ipykernel_2783/1727402983.py:10: DeprecationWarning: `photutils.CircularAperture` is a deprecated alias for `photutils.aperture.CircularAperture` and will be removed in the future. Instead, please use `from photutils.aperture import CircularAperture` to silence this warning.\n",
      "  from photutils import aperture_photometry, CircularAperture, CircularAnnulus\n",
      "/var/folders/28/tbbt82d56sg9zc7jc4j4d7p40000gn/T/ipykernel_2783/1727402983.py:10: DeprecationWarning: `photutils.CircularAnnulus` is a deprecated alias for `photutils.aperture.CircularAnnulus` and will be removed in the future. Instead, please use `from photutils.aperture import CircularAnnulus` to silence this warning.\n",
      "  from photutils import aperture_photometry, CircularAperture, CircularAnnulus\n"
     ]
    }
   ],
   "source": [
    "import os\n",
    "import glob\n",
    "import numpy as np\n",
    "import matplotlib.pyplot as plt\n",
    "from astropy.io import fits\n",
    "from astropy.stats import sigma_clipped_stats\n",
    "from astropy.time import Time\n",
    "from astropy.wcs import WCS\n",
    "from astropy.coordinates import SkyCoord\n",
    "from photutils import aperture_photometry, CircularAperture, CircularAnnulus\n",
    "\n"
   ]
  },
  {
   "cell_type": "code",
   "execution_count": 42,
   "metadata": {},
   "outputs": [],
   "source": [
    "fits_directory = '/Users/wendy/Desktop/16stackhr'\n"
   ]
  },
  {
   "cell_type": "code",
   "execution_count": 43,
   "metadata": {},
   "outputs": [],
   "source": [
    "target_coords = (2105.4637, 1745.8571)\n",
    "reference_coords_list = [(1738.4472, 1928.3894), (1830.4074, 2965.5023)]\n"
   ]
  },
  {
   "cell_type": "code",
   "execution_count": 44,
   "metadata": {},
   "outputs": [],
   "source": [
    "import os\n",
    "fits_files = sorted(glob.glob(os.path.join(fits_directory, '*.fits')))\n"
   ]
  },
  {
   "cell_type": "code",
   "execution_count": 45,
   "metadata": {},
   "outputs": [],
   "source": [
    "# Define the target's coordinates (x, y) and the aperture/annulus radii\n",
    "aperture_radius = 16\n",
    "annulus_inner_radius = 28\n",
    "annulus_outer_radius = 41\n",
    "\n",
    "time_array = []\n",
    "flux_ratio_array = []"
   ]
  },
  {
   "cell_type": "code",
   "execution_count": 46,
   "metadata": {},
   "outputs": [
    {
     "data": {
      "image/png": "[encoded data removed]",
      "text/plain": [
       "<Figure size 640x480 with 1 Axes>"
      ]
     },
     "metadata": {},
     "output_type": "display_data"
    }
   ],
   "source": [
    "for file in fits_files:\n",
    "    with fits.open(file) as hdulist:\n",
    "        header = hdulist[0].header\n",
    "        data = hdulist[0].data.astype(float)\n",
    "\n",
    "        # Subtract the background\n",
    "        mean, median, std = sigma_clipped_stats(data, sigma=3.0)\n",
    "        data -= median\n",
    "\n",
    "        # Define the target apertures and annuli\n",
    "        target_aperture = CircularAperture(target_coords, r=aperture_radius)\n",
    "        target_annulus = CircularAnnulus(target_coords, r_in=annulus_inner_radius, r_out=annulus_outer_radius)\n",
    "\n",
    "        # Perform aperture photometry for the target object\n",
    "        target_phot = aperture_photometry(data, [target_aperture, target_annulus])\n",
    "\n",
    "        # Calculate the background-subtracted flux for the target object\n",
    "        target_bkg_mean = target_phot['aperture_sum_1'] / target_annulus.area\n",
    "        target_flux = target_phot['aperture_sum_0'] - target_bkg_mean * target_aperture.area\n",
    "\n",
    "        # Calculate the magnitude difference for each reference star\n",
    "        mag_diff_list = []\n",
    "\n",
    "        for ref_coords in reference_coords_list:\n",
    "            # Define the reference star apertures and annuli\n",
    "            ref_aperture = CircularAperture(ref_coords, r=aperture_radius)\n",
    "            ref_annulus = CircularAnnulus(ref_coords, r_in=annulus_inner_radius, r_out=annulus_outer_radius)\n",
    "\n",
    "            # Perform aperture photometry for the reference star\n",
    "            ref_phot = aperture_photometry(data, [ref_aperture, ref_annulus])\n",
    "\n",
    "            # Calculate the background-subtracted flux for the reference star\n",
    "            ref_bkg_mean = ref_phot['aperture_sum_1'] / ref_annulus.area\n",
    "            ref_flux = ref_phot['aperture_sum_0'] - ref_bkg_mean * ref_aperture.area\n",
    "\n",
    "            # Calculate the magnitude difference\n",
    "            mag_diff = -2.5 * np.log10(target_flux / ref_flux)\n",
    "            mag_diff_list.append(mag_diff)\n",
    "\n",
    "        # Calculate the average magnitude difference\n",
    "        avg_mag_diff = np.mean(mag_diff_list)\n",
    "\n",
    "        # Store the time and average magnitude difference\n",
    "        time_array.append(Time(header['DATE-OBS']).jd)\n",
    "        flux_ratio_array.append(avg_mag_diff)\n",
    "\n",
    "# Normalize the time array\n",
    "time_array = np.array(time_array) - min(time_array)\n",
    "\n",
    "# Plot the light curve\n",
    "plt.figure()\n",
    "plt.plot(time_array, flux_ratio_array, 'o') \n",
    "plt.xlabel('Time (JD - JD_min)')\n",
    "plt.ylabel('Magnitude Difference')\n",
    "plt.gca().invert_yaxis()\n",
    "plt.show()"
   ]
  },
  {
   "cell_type": "markdown",
   "metadata": {},
   "source": [
    "SINGLE FITS FILE"
   ]
  },
  {
   "cell_type": "code",
   "execution_count": 31,
   "metadata": {},
   "outputs": [],
   "source": [
    "import numpy as np\n",
    "from astropy.io import fits\n",
    "from astropy.stats import sigma_clipped_stats\n",
    "from photutils import aperture_photometry, CircularAperture, CircularAnnulus\n",
    "from astropy.wcs import WCS\n"
   ]
  },
  {
   "cell_type": "code",
   "execution_count": 30,
   "metadata": {},
   "outputs": [],
   "source": [
    "# Open the FITS file\n",
    "file_name = '/Users/wendymendoza/Desktop/Yan/2023-03-16/stacked_5.fits'\n",
    "with fits.open(file_name) as hdul:\n",
    "    header = hdul[0].header\n",
    "    data = hdul[0].data"
   ]
  },
  {
   "cell_type": "code",
   "execution_count": 32,
   "metadata": {},
   "outputs": [
    {
     "name": "stderr",
     "output_type": "stream",
     "text": [
      "WARNING: FITSFixedWarning: 'datfix' made the change 'Set MJD-OBS to 60020.150544 from DATE-OBS'. [astropy.wcs.wcs]\n"
     ]
    }
   ],
   "source": [
    "# Assuming you have the header of your FITS file\n",
    "header = hdul[0].header\n",
    "\n",
    "# Create a WCS object using the header information\n",
    "wcs = WCS(header)\n",
    "\n",
    "# Define the target's RA and Dec (in degrees)\n",
    "ra, dec = 152.9324407, 57.3038326  # Replace these with the actual RA and Dec\n"
   ]
  },
  {
   "cell_type": "code",
   "execution_count": 34,
   "metadata": {},
   "outputs": [],
   "source": [
    "# Convert RA and Dec to pixel coordinates\n",
    "x, y = wcs.all_world2pix(ra, dec, 1)  # 1 is for the origin (FITS-like)\n",
    "\n",
    "# Convert numpy arrays to float and round the pixel coordinates to integers\n",
    "x, y = int(round(float(x))), int(round(float(y)))\n"
   ]
  },
  {
   "cell_type": "code",
   "execution_count": 35,
   "metadata": {},
   "outputs": [],
   "source": [
    "# Define the target's coordinates (x, y) and the aperture/annulus radii\n",
    "r_aperture = 5\n",
    "r_in, r_out = 10, 15\n"
   ]
  },
  {
   "cell_type": "code",
   "execution_count": 36,
   "metadata": {},
   "outputs": [],
   "source": [
    "# Create the aperture and annulus objects\n",
    "aperture = CircularAperture((x, y), r=r_aperture)\n",
    "annulus = CircularAnnulus((x, y), r_in=r_in, r_out=r_out)"
   ]
  },
  {
   "cell_type": "code",
   "execution_count": 37,
   "metadata": {},
   "outputs": [
    {
     "name": "stdout",
     "output_type": "stream",
     "text": [
      " aper_sum_bkgsub  \n",
      "------------------\n",
      "-20.59005106832774\n"
     ]
    }
   ],
   "source": [
    "# Calculate the background level using the annulus\n",
    "annulus_masks = annulus.to_mask(method='center')\n",
    "annulus_data = annulus_masks.multiply(data)\n",
    "annulus_data_1d = annulus_data[annulus_masks.data > 0]\n",
    "_, median_sigclip, _ = sigma_clipped_stats(annulus_data_1d)\n",
    "\n",
    "# Perform aperture photometry\n",
    "phot = aperture_photometry(data, aperture)\n",
    "phot['annulus_median'] = median_sigclip\n",
    "phot['aper_bkg'] = median_sigclip * aperture.area\n",
    "phot['aper_sum_bkgsub'] = phot['aperture_sum'] - phot['aper_bkg']\n",
    "\n",
    "# Print the results\n",
    "print(phot['aper_sum_bkgsub']) "
   ]
  }
 ],
 "metadata": {
  "kernelspec": {
   "display_name": "Python 3.10.5 64-bit",
   "language": "python",
   "name": "python3"
  },
  "language_info": {
   "codemirror_mode": {
    "name": "ipython",
    "version": 3
   },
   "file_extension": ".py",
   "mimetype": "text/x-python",
   "name": "python",
   "nbconvert_exporter": "python",
   "pygments_lexer": "ipython3",
   "version": "3.10.11"
  },
  "orig_nbformat": 4,
  "vscode": {
   "interpreter": {
    "hash": "aee8b7b246df8f9039afb4144a1f6fd8d2ca17a180786b69acc140d282b71a49"
   }
  }
 },
 "nbformat": 4,
 "nbformat_minor": 2
}
